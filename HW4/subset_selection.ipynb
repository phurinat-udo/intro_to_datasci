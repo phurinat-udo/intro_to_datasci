{
  "cells": [
    {
      "cell_type": "code",
      "execution_count": 270,
      "metadata": {
        "id": "n6Wnw-xkvau_"
      },
      "outputs": [],
      "source": [
        "import numpy as np\n",
        "import matplotlib.pyplot as plt\n",
        "from numpy import random\n",
        "from scipy.optimize import minimize"
      ]
    },
    {
      "cell_type": "code",
      "execution_count": 271,
      "metadata": {
        "id": "JEsJDfgUvNXk"
      },
      "outputs": [],
      "source": [
        "def generate_data():\n",
        "\n",
        "  \"\"\" Generate data to be fitted by multiple regression \"\"\"\n",
        "\n",
        "  # Set random seed\n",
        "  random.seed(0)\n",
        "\n",
        "  # Generate 4 dimensional data (3 inputs + 1 output)\n",
        "  # Inputs are all random number in range [0, 1]\n",
        "  # Output depends linearly on some input parameters\n",
        "  npoint = 50\n",
        "  x1 = random.rand(npoint)\n",
        "  x2 = random.rand(npoint)\n",
        "  x3 = random.rand(npoint)\n",
        "  noise = random.randn(npoint) * 0.1\n",
        "  y = 1.0 + 2.0*x1 + 3.0*x2 + noise\n",
        "\n",
        "  return x1, x2, x3, y"
      ]
    },
    {
      "cell_type": "code",
      "execution_count": 272,
      "metadata": {
        "id": "IXBBEFThycLa"
      },
      "outputs": [],
      "source": [
        "def rss_3param(p, x1, x2, x3, y):\n",
        "  \"\"\" Calculate RSS for 3-input fit, to be minimized \"\"\"\n",
        "  ymodel = p[0] + p[1]*x1 + p[2]*x2 + p[3]*x3\n",
        "  rss = np.sum((y - ymodel)**2)\n",
        "  return rss"
      ]
    },
    {
      "cell_type": "code",
      "execution_count": 273,
      "metadata": {
        "id": "C_GS4CsJyVWT"
      },
      "outputs": [],
      "source": [
        "def fit_3param(x1, x2, x3, y):\n",
        "  \"\"\" Fit 3-input function to data, return RSS and best-fit parameters \"\"\"\n",
        "  p0 = [1.0, 1.0, 1.0, 1.0]\n",
        "  out = minimize(rss_3param, p0, args=(x1, x2, x3, y))\n",
        "  rss = rss_3param(out.x, x1, x2, x3, y)\n",
        "  return rss, out.x"
      ]
    },
    {
      "cell_type": "code",
      "execution_count": 274,
      "metadata": {
        "id": "mHjp9dbM3Wbc"
      },
      "outputs": [],
      "source": [
        "def rss_2param(p, x1, x2, y):\n",
        "  \"\"\" Calculate RSS for 2-input fit, to be minimized \"\"\"\n",
        "  ymodel = p[0] + p[1]*x1 + p[2]*x2\n",
        "  rss = np.sum((y - ymodel)**2)\n",
        "  return rss"
      ]
    },
    {
      "cell_type": "code",
      "execution_count": 275,
      "metadata": {
        "id": "REuvT4wX3HrI"
      },
      "outputs": [],
      "source": [
        "def fit_2param(x1, x2, y):\n",
        "  \"\"\" Fit 2-input function to data, return RSS and best-fit parameters \"\"\"\n",
        "  p0 = [1.0, 1.0, 1.0]\n",
        "  out = minimize(rss_2param, p0, args=(x1, x2, y))\n",
        "  rss = rss_2param(out.x, x1, x2, y)\n",
        "  return rss, out.x"
      ]
    },
    {
      "cell_type": "code",
      "execution_count": 276,
      "metadata": {
        "id": "VB5BDKZj-YpA"
      },
      "outputs": [],
      "source": [
        "def rss_1param(p, x, y):\n",
        "  \"\"\" Calculate RSS for 1-input fit, to be minimized \"\"\"\n",
        "  ymodel = p[0] + p[1]*x\n",
        "  rss = np.sum((y - ymodel)**2)\n",
        "  return rss"
      ]
    },
    {
      "cell_type": "code",
      "execution_count": 277,
      "metadata": {
        "id": "UzrY0Tzs-KiN"
      },
      "outputs": [],
      "source": [
        "def fit_1param(x, y):\n",
        "  \"\"\" Fit 1-input function to data, return RSS and best-fit parameters \"\"\"\n",
        "  p0 = [1.0, 1.0]\n",
        "  out = minimize(rss_1param, p0, args=(x, y))\n",
        "  rss = rss_1param(out.x, x, y)\n",
        "  return rss, out.x"
      ]
    },
    {
      "cell_type": "code",
      "execution_count": 278,
      "metadata": {
        "id": "D084v5qo-waF"
      },
      "outputs": [],
      "source": [
        "def rss_0param(p, y):\n",
        "  \"\"\" Calculate RSS for 0-input (constant) fit, to be minimized \"\"\"\n",
        "  ymodel = p[0]\n",
        "  rss = np.sum((y - ymodel)**2)\n",
        "  return rss"
      ]
    },
    {
      "cell_type": "code",
      "execution_count": 279,
      "metadata": {
        "id": "CpE6AB0Y-kh5"
      },
      "outputs": [],
      "source": [
        "def fit_0param(y):\n",
        "  \"\"\" Fit 0-input (constant) to data, return RSS and best-fit parameters \"\"\"\n",
        "  p0 = [1.0]\n",
        "  out = minimize(rss_0param, p0, args=(y))\n",
        "  rss = rss_0param(out.x, y)\n",
        "  return rss, out.x"
      ]
    },
    {
      "cell_type": "code",
      "execution_count": 280,
      "metadata": {
        "id": "61FDbLNO1t6x"
      },
      "outputs": [],
      "source": [
        "def cp(rss, n, d, sigma_square):\n",
        "  \"\"\" Calculate the Mallows's Cp parameter \"\"\"\n",
        "  cp = (rss + 2.0 * d * sigma_square) / n\n",
        "  return cp"
      ]
    },
    {
      "cell_type": "code",
      "execution_count": 281,
      "metadata": {
        "id": "Llkm-ecc19VQ"
      },
      "outputs": [],
      "source": [
        "def aic(rss, n, d, sigma_square):\n",
        "  \"\"\" Calculate the Akaike Information Criteria (AIC) \"\"\"\n",
        "  aic = (rss + 2.0 * d * sigma_square) / n / sigma_square\n",
        "  return aic"
      ]
    },
    {
      "cell_type": "code",
      "execution_count": 282,
      "metadata": {
        "id": "ghvaw0qf2OoZ"
      },
      "outputs": [],
      "source": [
        "def bic(rss, n, d, sigma_square):\n",
        "  \"\"\" Calculate the Bayesian Information Criteria (BIC) \"\"\"\n",
        "  bic = (rss + np.log(n) * d * sigma_square) / n / sigma_square\n",
        "  return bic"
      ]
    },
    {
      "cell_type": "code",
      "execution_count": 283,
      "metadata": {
        "id": "re_sxkuFwF2Q"
      },
      "outputs": [],
      "source": [
        "def subset_selection():\n",
        "\n",
        "  \"\"\" Main function to illustrate subset selection.\n",
        "\n",
        "  This function takes 4-dimensional data (3 inputs, 1 output) and fit the\n",
        "  data with all possible combinations of inputs (total of 8 combinations).\n",
        "  For each fit, the best-fit parameters, RSS, AIC and BIC are printed out.\n",
        "  \"\"\"\n",
        "\n",
        "  # Get the data\n",
        "  x1, x2, x3, y = generate_data()\n",
        "\n",
        "  # Header of the table format and formatted string to print output\n",
        "  # Read \"Format Specification Mini-Language\" for more details\n",
        "  headstr = \"Model      Beta0   Beta1   Beta2   Beta3     RSS      AIC      BIC\"\n",
        "  print(headstr)\n",
        "  print(\"=\"*len(headstr))\n",
        "  outstr = \"{0:8s}  {1:6.3f}  {2:6.3f}  {3:6.3f}  {4:6.3f}  {5:6.3f}  {6:7.3f}  {7:7.3f}\"\n",
        "\n",
        "  # Model with all 3 inputs\n",
        "  rss123, p123 = fit_3param(x1, x2, x3, y)\n",
        "  sigma_square = rss123 / len(y)\n",
        "  cp123 = cp(rss123, len(y), 4, sigma_square)\n",
        "  aic123 = aic(rss123, len(y), 4, sigma_square)\n",
        "  bic123 = bic(rss123, len(y), 4, sigma_square)\n",
        "  print(outstr.format(\"x1/x2/x3\", p123[0], p123[1], p123[2], p123[3], rss123, aic123, bic123))\n",
        "\n",
        "  # Models with 2 inputs (3 variations)\n",
        "  rss12, p12 = fit_2param(x1, x2, y)\n",
        "  aic12 = aic(rss12, len(y), 3, sigma_square)\n",
        "  bic12 = bic(rss12, len(y), 3, sigma_square)\n",
        "  rss13, p13 = fit_2param(x1, x3, y)\n",
        "  aic13 = aic(rss13, len(y), 3, sigma_square)\n",
        "  bic13 = bic(rss13, len(y), 3, sigma_square)\n",
        "  rss23, p23 = fit_2param(x2, x3, y)\n",
        "  aic23 = aic(rss23, len(y), 3, sigma_square)\n",
        "  bic23 = bic(rss23, len(y), 3, sigma_square)\n",
        "  print(outstr.format(\"x1/x2\", p12[0], p12[1], p12[2], 0.0, rss12, aic12, bic12))\n",
        "  print(outstr.format(\"x1/x3\", p13[0], p13[1], 0.0, p13[2], rss13, aic13, bic13))\n",
        "  print(outstr.format(\"x2/x3\", p23[0], 0.0, p23[1], p23[2], rss23, aic23, bic23))\n",
        "\n",
        "  # Models with 1 inputs (3 variations)\n",
        "  rss1, p1 = fit_1param(x1, y)\n",
        "  aic1 = aic(rss1, len(y), 2, sigma_square)\n",
        "  bic1 = bic(rss1, len(y), 2, sigma_square)\n",
        "  rss2, p2 = fit_1param(x2, y)\n",
        "  aic2 = aic(rss2, len(y), 2, sigma_square)\n",
        "  bic2 = bic(rss2, len(y), 2, sigma_square)\n",
        "  rss3, p3 = fit_1param(x3, y)\n",
        "  aic3 = aic(rss3, len(y), 2, sigma_square)\n",
        "  bic3 = bic(rss3, len(y), 2, sigma_square)\n",
        "  print(outstr.format(\"x1\", p1[0], p1[1], 0.0, 0.0, rss1, aic1, bic1))\n",
        "  print(outstr.format(\"x2\", p2[0], 0.0, p2[1], 0.0, rss2, aic2, bic2))\n",
        "  print(outstr.format(\"x3\", p3[0], 0.0, 0.0, p3[1], rss3, aic3, bic3))\n",
        "\n",
        "  # Model with zero inputs\n",
        "  rss0, p0 = fit_0param(y)\n",
        "  aic0 = aic(rss0, len(y), 1, sigma_square)\n",
        "  bic0 = bic(rss0, len(y), 1, sigma_square)\n",
        "  print(outstr.format(\"Const\", p0[0], 0.0, 0.0, 0.0, rss0, aic0, bic0))"
      ]
    },
    {
      "cell_type": "code",
      "execution_count": 284,
      "metadata": {
        "colab": {
          "base_uri": "https://localhost:8080/"
        },
        "id": "KnbrZnG-wJfg",
        "outputId": "766c55ca-ff4b-41e9-9fda-1c3ff72b5f4f"
      },
      "outputs": [
        {
          "name": "stdout",
          "output_type": "stream",
          "text": [
            "Model      Beta0   Beta1   Beta2   Beta3     RSS      AIC      BIC\n",
            "==================================================================\n",
            "x1/x2/x3   0.979   2.007   3.035   0.011   0.452    1.160    1.313\n",
            "x1/x2      0.986   2.006   3.036   0.000   0.453    1.121    1.236\n",
            "x1/x3      2.184   1.756   0.000   0.296  38.415   85.022   85.136\n",
            "x2/x3      2.279   0.000   2.889  -0.265  15.040   33.360   33.475\n",
            "x1         2.376   1.721   0.000   0.000  38.674   85.553   85.630\n",
            "x2         2.133   0.000   2.869   0.000  15.248   33.780   33.856\n",
            "x3         3.278   0.000   0.000   0.041  49.650  109.810  109.887\n",
            "Const      3.302   0.000   0.000   0.000  49.655  109.782  109.820\n"
          ]
        }
      ],
      "source": [
        "subset_selection()"
      ]
    }
  ],
  "metadata": {
    "colab": {
      "name": "subset_selection.ipynb",
      "provenance": []
    },
    "kernelspec": {
      "display_name": "Python 3",
      "language": "python",
      "name": "python3"
    },
    "language_info": {
      "name": "python",
      "version": "3.10.4 (main, Nov 29 2022, 20:00:25) [GCC 9.4.0]"
    },
    "vscode": {
      "interpreter": {
        "hash": "3ad933181bd8a04b432d3370b9dc3b0662ad032c4dfaa4e4f1596c548f763858"
      }
    }
  },
  "nbformat": 4,
  "nbformat_minor": 0
}
